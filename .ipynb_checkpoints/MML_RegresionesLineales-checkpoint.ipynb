{
 "cells": [
  {
   "cell_type": "markdown",
   "id": "a39ef70f-f297-41c9-8759-48e61eacb45e",
   "metadata": {},
   "source": [
    "**Contexto:**\n",
    "\n",
    "¡Bienvenidos al mundo de las compras en Estambul! Nuestro conjunto de datos contiene información sobre compras realizadas en 10 centros comerciales diferentes entre 2021 y 2023. Hemos recopilado datos de diversos grupos de edad y géneros para ofrecer una visión integral de los hábitos de compra en Estambul. El conjunto de datos incluye información esencial como números de factura, IDs de clientes, edad, género, métodos de pago, categorías de productos, cantidad, precio, fechas de pedido y ubicaciones de los centros comerciales. Esperamos que este conjunto de datos sea un recurso valioso para investigadores, analistas de datos y entusiastas del aprendizaje automático que deseen obtener información sobre las tendencias y patrones de compra en Estambul. ¡Explora el conjunto de datos y descubre el fascinante mundo de las compras en Estambul!\n",
    "\n",
    "**Contenido:**\n",
    "\n",
    "**Información de los atributos:**\n",
    "\n",
    "- **invoice_no:** Número de factura. Nominal. Una combinación de la letra 'I' y un entero de 6 dígitos asignado de manera única a cada operación.\n",
    "- **customer_id:** Número de cliente. Nominal. Una combinación de la letra 'C' y un entero de 6 dígitos asignado de manera única a cada operación.\n",
    "- **gender:** Variable de tipo cadena que indica el género del cliente.\n",
    "- **age:** Variable de tipo entero positivo que indica la edad del cliente.\n",
    "- **category:** Variable de tipo cadena que indica la categoría del producto comprado.\n",
    "- **quantity:** Cantidad de cada producto (artículo) por transacción. Numérico.\n",
    "- **price:** Precio unitario. Numérico. Precio del producto por unidad en Liras Turcas (TL).\n",
    "- **payment_method:** Variable de tipo cadena que indica el método de pago (efectivo, tarjeta de crédito o tarjeta de débito) utilizado para la transacción.\n",
    "- **invoice_date:** Fecha de la factura. El día en que se generó la transacción.\n",
    "- **shopping_mall:** Variable de tipo cadena que indica el nombre del centro comercial donde se realizó la transacción."
   ]
  },
  {
   "cell_type": "code",
   "execution_count": 1,
   "id": "c7432490-0e3e-4c64-8661-979acb90d64a",
   "metadata": {},
   "outputs": [],
   "source": [
    "import pandas as pd \n",
    "import numpy as np"
   ]
  },
  {
   "cell_type": "code",
   "execution_count": 9,
   "id": "45396009-a554-4a86-bd63-901a939d3c67",
   "metadata": {},
   "outputs": [],
   "source": [
    "url='/home/julio/jupyter_files/MLM_CustomerShoppingDataset/customer_shopping_data.csv'\n",
    "df=pd.read_csv(url)"
   ]
  },
  {
   "cell_type": "code",
   "execution_count": 3,
   "id": "8d4e382c-b42b-42be-9462-3a7fd1f28ffa",
   "metadata": {},
   "outputs": [
    {
     "name": "stdout",
     "output_type": "stream",
     "text": [
      "<class 'pandas.core.frame.DataFrame'>\n",
      "RangeIndex: 99457 entries, 0 to 99456\n",
      "Data columns (total 10 columns):\n",
      " #   Column          Non-Null Count  Dtype  \n",
      "---  ------          --------------  -----  \n",
      " 0   invoice_no      99457 non-null  object \n",
      " 1   customer_id     99457 non-null  object \n",
      " 2   gender          99457 non-null  object \n",
      " 3   age             99457 non-null  int64  \n",
      " 4   category        99457 non-null  object \n",
      " 5   quantity        99457 non-null  int64  \n",
      " 6   price           99457 non-null  float64\n",
      " 7   payment_method  99457 non-null  object \n",
      " 8   invoice_date    99457 non-null  object \n",
      " 9   shopping_mall   99457 non-null  object \n",
      "dtypes: float64(1), int64(2), object(7)\n",
      "memory usage: 7.6+ MB\n"
     ]
    }
   ],
   "source": [
    "df.info()"
   ]
  },
  {
   "cell_type": "markdown",
   "id": "2744bed0-bddb-4324-8150-2809a7c4532c",
   "metadata": {},
   "source": [
    "**Importar librerías**"
   ]
  },
  {
   "cell_type": "code",
   "execution_count": 10,
   "id": "45871c9f-9367-44bf-8f1f-d030004317b8",
   "metadata": {},
   "outputs": [],
   "source": [
    "import pandas as pd\n",
    "import numpy as np\n",
    "from sklearn.model_selection import train_test_split, GridSearchCV\n",
    "from sklearn.preprocessing import StandardScaler, OneHotEncoder\n",
    "from sklearn.compose import ColumnTransformer\n",
    "from sklearn.pipeline import Pipeline\n",
    "from sklearn.linear_model import LinearRegression, Ridge, Lasso, ElasticNet\n",
    "from sklearn.metrics import mean_squared_error, mean_absolute_error, r2_score"
   ]
  },
  {
   "cell_type": "code",
   "execution_count": 11,
   "id": "7a7811c4-605a-4e4d-96de-a99265e3e9a3",
   "metadata": {},
   "outputs": [],
   "source": [
    "# Suponiendo que ya has cargado el DataFrame 'df'\n",
    "X = df.drop(columns=['price'])\n",
    "y = df['price']"
   ]
  },
  {
   "cell_type": "markdown",
   "id": "bd235bb8-1c76-4ebf-8ebe-3ec743bff440",
   "metadata": {},
   "source": [
    "Codificación de variables categóricas y estandarización de variables numéricas"
   ]
  },
  {
   "cell_type": "code",
   "execution_count": 12,
   "id": "b0321f9d-98cb-497b-87d8-68cc7856d284",
   "metadata": {},
   "outputs": [],
   "source": [
    "# Identificar las columnas categóricas y numéricas\n",
    "categorical_cols = ['invoice_no', 'customer_id', 'gender', 'category', 'payment_method', 'invoice_date', 'shopping_mall']\n",
    "numerical_cols = ['age', 'quantity']\n",
    "\n",
    "# Preprocesador\n",
    "preprocessor = ColumnTransformer(\n",
    "    transformers=[\n",
    "        ('num', StandardScaler(), numerical_cols),\n",
    "        ('cat', OneHotEncoder(handle_unknown='ignore'), categorical_cols)\n",
    "    ])\n",
    "\n",
    "# Creamos el pipeline con el preprocesador y el modelo de regresión lineal\n",
    "model = Pipeline(steps=[('preprocessor', preprocessor),\n",
    "                        ('regressor', LinearRegression())])\n"
   ]
  },
  {
   "cell_type": "raw",
   "id": "c4f96383-f712-4de7-ad42-fa31f3f9efc1",
   "metadata": {},
   "source": [
    "Dividir el conjunto de datos en entrenamiento y prueba"
   ]
  },
  {
   "cell_type": "code",
   "execution_count": 14,
   "id": "12e6e655-2443-4f0c-9188-819d3f1b63ad",
   "metadata": {},
   "outputs": [],
   "source": [
    "X_train, X_test, y_train, y_test = train_test_split(X, y, test_size=0.2, random_state=42)\n"
   ]
  },
  {
   "cell_type": "markdown",
   "id": "5590d05e-108c-4bec-9986-9e1eee168a69",
   "metadata": {},
   "source": [
    "**Entrenamiento y evaluación del modelo inicial**"
   ]
  },
  {
   "cell_type": "code",
   "execution_count": 15,
   "id": "11477d23-105a-46ef-b52b-e71239f2073a",
   "metadata": {},
   "outputs": [],
   "source": [
    "# Entrenar el modelo\n",
    "model.fit(X_train, y_train)\n",
    "\n",
    "# Predicciones\n",
    "y_pred_train = model.predict(X_train)\n",
    "y_pred_test = model.predict(X_test)"
   ]
  },
  {
   "cell_type": "code",
   "execution_count": 16,
   "id": "dac3115c-8f49-4781-b707-8c9e11a38143",
   "metadata": {},
   "outputs": [],
   "source": [
    "# Evaluación inicial\n",
    "def evaluate_model(y_true, y_pred):\n",
    "    mse = mean_squared_error(y_true, y_pred)\n",
    "    mae = mean_absolute_error(y_true, y_pred)\n",
    "    r2 = r2_score(y_true, y_pred)\n",
    "    return mse, mae, r2"
   ]
  },
  {
   "cell_type": "code",
   "execution_count": 17,
   "id": "3ccc9cea-628f-4980-836c-d346cec12a8e",
   "metadata": {},
   "outputs": [
    {
     "name": "stdout",
     "output_type": "stream",
     "text": [
      "Training Metrics: MSE: 0.04052679598407734, MAE: 0.12137019325537315, R2: 0.9999999540425443\n",
      "Test Metrics: MSE: 140898.98596985044, MAE: 251.38517937460597, R2: 0.8437492690951172\n"
     ]
    }
   ],
   "source": [
    "train_metrics = evaluate_model(y_train, y_pred_train)\n",
    "test_metrics = evaluate_model(y_test, y_pred_test)\n",
    "\n",
    "print(f'Training Metrics: MSE: {train_metrics[0]}, MAE: {train_metrics[1]}, R2: {train_metrics[2]}')\n",
    "print(f'Test Metrics: MSE: {test_metrics[0]}, MAE: {test_metrics[1]}, R2: {test_metrics[2]}')"
   ]
  },
  {
   "cell_type": "markdown",
   "id": "ccdb62dc-4c0d-4df2-a8ff-b31501daff7e",
   "metadata": {},
   "source": [
    "**Probar otros modelos de regresión (Ridge, Lasso, ElasticNet)**"
   ]
  },
  {
   "cell_type": "code",
   "execution_count": null,
   "id": "0dd858ca-d3eb-4046-8ffd-dfa0c02de51f",
   "metadata": {},
   "outputs": [],
   "source": [
    "ridge = Pipeline(steps=[('preprocessor', preprocessor),\n",
    "                        ('regressor', Ridge())])\n",
    "# Entrenar los modelos\n",
    "ridge.fit(X_train, y_train)"
   ]
  },
  {
   "cell_type": "code",
   "execution_count": null,
   "id": "1fc2a849-da1b-42ce-8059-008a0b467dd8",
   "metadata": {},
   "outputs": [],
   "source": [
    "lasso = Pipeline(steps=[('preprocessor', preprocessor),\n",
    "                        ('regressor', Lasso())])\n",
    "lasso.fit(X_train, y_train)"
   ]
  },
  {
   "cell_type": "code",
   "execution_count": 18,
   "id": "bda2497f-d036-4c4e-bcd7-d0e137b74718",
   "metadata": {},
   "outputs": [],
   "source": [
    "\n",
    "\n",
    "\n",
    "elasticnet = Pipeline(steps=[('preprocessor', preprocessor),\n",
    "                             ('regressor', ElasticNet())])\n",
    "elasticnet.fit(X_train, y_train)"
   ]
  },
  {
   "cell_type": "code",
   "execution_count": null,
   "id": "58694169-89d0-4ea6-bb4e-2a444196747e",
   "metadata": {},
   "outputs": [],
   "source": [
    "# Entrenar los modelos\n",
    "ridge.fit(X_train, y_train)\n",
    "lasso.fit(X_train, y_train)\n",
    "elasticnet.fit(X_train, y_train)"
   ]
  },
  {
   "cell_type": "code",
   "execution_count": null,
   "id": "67acc41a-405f-44ab-b7c1-118ebc1668f3",
   "metadata": {},
   "outputs": [],
   "source": [
    "# Evaluación\n",
    "ridge_metrics = evaluate_model(y_test, ridge.predict(X_test))\n",
    "lasso_metrics = evaluate_model(y_test, lasso.predict(X_test))\n",
    "elasticnet_metrics = evaluate_model(y_test, elasticnet.predict(X_test))\n",
    "\n",
    "print(f'Ridge Metrics: MSE: {ridge_metrics[0]}, MAE: {ridge_metrics[1]}, R2: {ridge_metrics[2]}')\n",
    "print(f'Lasso Metrics: MSE: {lasso_metrics[0]}, MAE: {lasso_metrics[1]}, R2: {lasso_metrics[2]}')\n",
    "print(f'ElasticNet Metrics: MSE: {elasticnet_metrics[0]}, MAE: {elasticnet_metrics[1]}, R2: {elasticnet_metrics[2]}')"
   ]
  }
 ],
 "metadata": {
  "kernelspec": {
   "display_name": "Python 3 (ipykernel)",
   "language": "python",
   "name": "python3"
  },
  "language_info": {
   "codemirror_mode": {
    "name": "ipython",
    "version": 3
   },
   "file_extension": ".py",
   "mimetype": "text/x-python",
   "name": "python",
   "nbconvert_exporter": "python",
   "pygments_lexer": "ipython3",
   "version": "3.10.12"
  }
 },
 "nbformat": 4,
 "nbformat_minor": 5
}
